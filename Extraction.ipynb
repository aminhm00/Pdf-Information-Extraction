{
 "cells": [
  {
   "cell_type": "code",
   "execution_count": 48,
   "metadata": {},
   "outputs": [],
   "source": [
    "# importing all the required modules\n",
    "import PyPDF2\n",
    "import itertools\n",
    "import pandas as pd"
   ]
  },
  {
   "cell_type": "code",
   "execution_count": 2,
   "metadata": {},
   "outputs": [
    {
     "name": "stdout",
     "output_type": "stream",
     "text": [
      "86\n"
     ]
    }
   ],
   "source": [
    "# creating an object \n",
    "file = open('u63.pdf', 'rb')\n",
    "\n",
    "# creating a pdf reader object\n",
    "fileReader = PyPDF2.PdfFileReader(file)\n",
    "\n",
    "# print the number of pages in pdf file\n",
    "print(fileReader.numPages)"
   ]
  },
  {
   "cell_type": "code",
   "execution_count": 4,
   "metadata": {},
   "outputs": [],
   "source": [
    "def extractTextList(self):\n",
    "    text_list = []\n",
    "    content = self[\"/Contents\"].getObject()\n",
    "    if not isinstance(content, ContentStream):\n",
    "        content = ContentStream(content, self.pdf)\n",
    "\n",
    "    for operands, operator in content.operations:\n",
    "        if operator == b_(\"Tj\"):\n",
    "            _text = operands[0]\n",
    "            if isinstance(_text, TextStringObject) and len(_text.strip()):\n",
    "                text_list.append(_text.strip())\n",
    "        elif operator == b_(\"T*\"):\n",
    "            pass\n",
    "        elif operator == b_(\"'\"):\n",
    "            pass\n",
    "            _text = operands[0]\n",
    "            if isinstance(_text, TextStringObject) and len(operands[0]):\n",
    "                text_list.append(operands[0])\n",
    "        elif operator == b_('\"'):\n",
    "            _text = operands[2]\n",
    "            if isinstance(_text, TextStringObject) and len(_text):\n",
    "                text_list.append(_text)\n",
    "        elif operator == b_(\"TJ\"):\n",
    "            for i in operands[0]:\n",
    "                if isinstance(i, TextStringObject) and len(i):\n",
    "                    text_list.append(i)\n",
    "    return text_list"
   ]
  },
  {
   "cell_type": "code",
   "execution_count": 76,
   "metadata": {},
   "outputs": [],
   "source": [
    "from PyPDF2.pdf import PageObject, u_, ContentStream, b_, TextStringObject\n",
    "PageObject.extractTextList = extractTextList"
   ]
  },
  {
   "cell_type": "code",
   "execution_count": 77,
   "metadata": {},
   "outputs": [],
   "source": [
    "def between(text_elements, drop_while, take_while):    \n",
    "    return list(itertools.takewhile(take_while, itertools.dropwhile(drop_while, text_elements)))[1:]"
   ]
  },
  {
   "cell_type": "code",
   "execution_count": 78,
   "metadata": {},
   "outputs": [
    {
     "name": "stdout",
     "output_type": "stream",
     "text": [
      "C6351B\n"
     ]
    }
   ],
   "source": [
    "pdfFileObj = open('u63.pdf', 'rb')\n",
    "pdfReader = PyPDF2.PdfFileReader(pdfFileObj)\n",
    "\n",
    "page0 = pdfReader.getPage(0)\n",
    "text_elements = page0.extractTextList()\n",
    "\n",
    "lines = between(text_elements, lambda x: x != 'Name', lambda x: 'Category' not in x)\n",
    "print('\\n'.join(lines))"
   ]
  },
  {
   "cell_type": "code",
   "execution_count": 79,
   "metadata": {},
   "outputs": [
    {
     "data": {
      "text/plain": [
       "8952"
      ]
     },
     "execution_count": 79,
     "metadata": {},
     "output_type": "execute_result"
    }
   ],
   "source": [
    "output = []\n",
    "for i in range(pdfReader.numPages):\n",
    "    page0 = pdfReader.getPage(i)\n",
    "    text_elements = page0.extractTextList()\n",
    "    output += text_elements\n",
    "len(output)"
   ]
  },
  {
   "cell_type": "code",
   "execution_count": 80,
   "metadata": {},
   "outputs": [],
   "source": [
    "def split_val(lisst ,value, equipements = False):\n",
    "    size = len(lisst)\n",
    "    if not equipements:\n",
    "        idx_list = [idx for idx, val in enumerate(lisst) if val == value]\n",
    "        res = [lisst[i: j] for i, j in zip([0] + idx_list, idx_list + ([size] if idx_list[-1] != size else []))]\n",
    "    else:\n",
    "        idx_list = [idx for idx, val in enumerate(lisst) if value in val]\n",
    "        if idx_list == []:\n",
    "            res = lisst\n",
    "        else:\n",
    "            res = [lisst[i: j] for i, j in zip([0] + idx_list, idx_list + ([size] if idx_list[-1] != size else []))]\n",
    "    return res"
   ]
  },
  {
   "cell_type": "code",
   "execution_count": 82,
   "metadata": {},
   "outputs": [
    {
     "data": {
      "text/html": [
       "<div>\n",
       "<style scoped>\n",
       "    .dataframe tbody tr th:only-of-type {\n",
       "        vertical-align: middle;\n",
       "    }\n",
       "\n",
       "    .dataframe tbody tr th {\n",
       "        vertical-align: top;\n",
       "    }\n",
       "\n",
       "    .dataframe thead th {\n",
       "        text-align: right;\n",
       "    }\n",
       "</style>\n",
       "<table border=\"1\" class=\"dataframe\">\n",
       "  <thead>\n",
       "    <tr style=\"text-align: right;\">\n",
       "      <th></th>\n",
       "      <th>Type inspection</th>\n",
       "      <th>Nom equipement</th>\n",
       "      <th>Date inspection</th>\n",
       "    </tr>\n",
       "  </thead>\n",
       "  <tbody>\n",
       "    <tr>\n",
       "      <th>0</th>\n",
       "      <td>C6351B</td>\n",
       "      <td>RBI</td>\n",
       "      <td>31 dec 2019</td>\n",
       "    </tr>\n",
       "    <tr>\n",
       "      <th>1</th>\n",
       "      <td>C6351B</td>\n",
       "      <td>HIST</td>\n",
       "      <td>27 dec 2016</td>\n",
       "    </tr>\n",
       "    <tr>\n",
       "      <th>2</th>\n",
       "      <td>C6351B</td>\n",
       "      <td>NVISI</td>\n",
       "      <td>20 apr 2010</td>\n",
       "    </tr>\n",
       "    <tr>\n",
       "      <th>3</th>\n",
       "      <td>C6351B</td>\n",
       "      <td>XVISI</td>\n",
       "      <td>21 mei 2005</td>\n",
       "    </tr>\n",
       "    <tr>\n",
       "      <th>4</th>\n",
       "      <td>C6351B</td>\n",
       "      <td>HIST</td>\n",
       "      <td>01 mei 2000</td>\n",
       "    </tr>\n",
       "    <tr>\n",
       "      <th>5</th>\n",
       "      <td>E6301</td>\n",
       "      <td>RBI</td>\n",
       "      <td>31 dec 2019</td>\n",
       "    </tr>\n",
       "    <tr>\n",
       "      <th>6</th>\n",
       "      <td>E6301</td>\n",
       "      <td>HIST</td>\n",
       "      <td>20 mei 2018</td>\n",
       "    </tr>\n",
       "    <tr>\n",
       "      <th>7</th>\n",
       "      <td>E6301</td>\n",
       "      <td>HIST</td>\n",
       "      <td>01 jul 2015</td>\n",
       "    </tr>\n",
       "    <tr>\n",
       "      <th>8</th>\n",
       "      <td>E6301</td>\n",
       "      <td>HIST</td>\n",
       "      <td>21 apr 2015</td>\n",
       "    </tr>\n",
       "    <tr>\n",
       "      <th>9</th>\n",
       "      <td>E6301</td>\n",
       "      <td>HIST</td>\n",
       "      <td>08 apr 2015</td>\n",
       "    </tr>\n",
       "  </tbody>\n",
       "</table>\n",
       "</div>"
      ],
      "text/plain": [
       "  Type inspection Nom equipement Date inspection\n",
       "0          C6351B            RBI     31 dec 2019\n",
       "1          C6351B           HIST     27 dec 2016\n",
       "2          C6351B          NVISI     20 apr 2010\n",
       "3          C6351B          XVISI     21 mei 2005\n",
       "4          C6351B           HIST     01 mei 2000\n",
       "5           E6301            RBI     31 dec 2019\n",
       "6           E6301           HIST     20 mei 2018\n",
       "7           E6301           HIST     01 jul 2015\n",
       "8           E6301           HIST     21 apr 2015\n",
       "9           E6301           HIST     08 apr 2015"
      ]
     },
     "execution_count": 82,
     "metadata": {},
     "output_type": "execute_result"
    }
   ],
   "source": [
    "res = split_val(output ,'Name')\n",
    "column= ['Type inspection', 'Nom equipement', 'Date inspection']\n",
    "Data = pd.DataFrame(columns= column )\n",
    "\n",
    "for i in range(len(res)):\n",
    "    ti = between(res[i], lambda x: x != 'Name', lambda x: 'Category' not in x)\n",
    "    if ti == []:\n",
    "        continue\n",
    "    res_event = split_val(res[i] ,'EVENTMASTER',equipements=True)\n",
    "    for j in range(len(res_event)):\n",
    "        ne_di = between(res_event[j], lambda x: 'EVENTMASTER' not in x , lambda x: 'Parent' not in x)\n",
    "        if ne_di != []:\n",
    "            s = pd.Series([ti[0],ne_di[0],ne_di[1]],index=column)\n",
    "            Data = Data.append(s,ignore_index=True)\n",
    "        ne_di = []\n",
    "    ti = []\n",
    "\n",
    "Data[:10]\n"
   ]
  },
  {
   "cell_type": "code",
   "execution_count": 83,
   "metadata": {},
   "outputs": [
    {
     "data": {
      "text/plain": [
       "287"
      ]
     },
     "execution_count": 83,
     "metadata": {},
     "output_type": "execute_result"
    }
   ],
   "source": [
    "len(Data)"
   ]
  },
  {
   "cell_type": "code",
   "execution_count": 85,
   "metadata": {},
   "outputs": [],
   "source": [
    "Data.to_csv('Data_extracted_from_pdf.csv', index=False)"
   ]
  },
  {
   "cell_type": "code",
   "execution_count": null,
   "metadata": {},
   "outputs": [],
   "source": []
  }
 ],
 "metadata": {
  "kernelspec": {
   "display_name": "Python 3",
   "language": "python",
   "name": "python3"
  },
  "language_info": {
   "codemirror_mode": {
    "name": "ipython",
    "version": 3
   },
   "file_extension": ".py",
   "mimetype": "text/x-python",
   "name": "python",
   "nbconvert_exporter": "python",
   "pygments_lexer": "ipython3",
   "version": "3.7.6"
  }
 },
 "nbformat": 4,
 "nbformat_minor": 4
}
